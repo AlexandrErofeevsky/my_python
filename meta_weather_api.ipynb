{
 "cells": [
  {
   "cell_type": "markdown",
   "metadata": {},
   "source": [
    "[MetaWeather](https://www.metaweather.com) - это автоматический агрегатор данных о погоде, который принимает прогнозы погоды от различных прогнозистов и вычисляет наиболее вероятный результат.\n",
    "\n",
    "Идея состоит в том, что объединенные знания прогнозистов произведут лучшее предсказание.\n",
    "\n",
    "**История**\n",
    "\n",
    "Я (Джейсон) собрался на свадьбу друга, которая была частично на улице в непредсказуемой Великобритании. При проверке прогноза погоды я задавался вопросом, должен ли я проверить другого прогнозиста, чтобы увидеть, что он предсказал. Этот процесс привел меня к проверке некоторых сайтов. Пара плохо написанных PHP-скриптов, неуклюжая база данных MySQL и несколько часов спустя я перебирал данные о погоде с нескольких сайтов.\n",
    "\n",
    "Я приступил к созданию внешнего интерфейса и с тех пор собрал около миллиарда точек прогнозов и данных наблюдений по состоянию на начало 2017 года. \n",
    "\n",
    "Далее пример работы с API сайта:"
   ]
  },
  {
   "cell_type": "code",
   "execution_count": 1,
   "metadata": {},
   "outputs": [],
   "source": [
    "import requests\n",
    "import pandas as pd\n",
    "from pprint import pprint as pp"
   ]
  },
  {
   "cell_type": "markdown",
   "metadata": {},
   "source": [
    "Пример получения прогноза погоды в Санкт-Петербурге на 24.09.2019\n",
    "\n",
    "Для начала узнаем ID города:"
   ]
  },
  {
   "cell_type": "code",
   "execution_count": 3,
   "metadata": {},
   "outputs": [],
   "source": [
    "json_city = requests.get(\"https://www.metaweather.com/api/location/search/?query=St Petersburg\").json()"
   ]
  },
  {
   "cell_type": "code",
   "execution_count": 4,
   "metadata": {},
   "outputs": [
    {
     "name": "stdout",
     "output_type": "stream",
     "text": [
      "[{'latt_long': '59.932739,30.306721',\n",
      "  'location_type': 'City',\n",
      "  'title': 'St Petersburg',\n",
      "  'woeid': 2123260}]\n"
     ]
    }
   ],
   "source": [
    "pp(json_city)"
   ]
  },
  {
   "cell_type": "code",
   "execution_count": 5,
   "metadata": {},
   "outputs": [],
   "source": [
    "ident = json_city[0][\"woeid\"]"
   ]
  },
  {
   "cell_type": "code",
   "execution_count": 6,
   "metadata": {},
   "outputs": [
    {
     "name": "stdout",
     "output_type": "stream",
     "text": [
      "2123260\n"
     ]
    }
   ],
   "source": [
    "print(ident)"
   ]
  },
  {
   "cell_type": "markdown",
   "metadata": {},
   "source": [
    "Запрос погоды для определенного дня возвращает историю прогноза, т.е. каким образом менялся прогноз за несколько дней.   \n",
    "Поле predictability показывает вероятность прогноза."
   ]
  },
  {
   "cell_type": "code",
   "execution_count": 7,
   "metadata": {},
   "outputs": [
    {
     "name": "stdout",
     "output_type": "stream",
     "text": [
      "[{'air_pressure': 1015.96,\n",
      "  'applicable_date': '2019-10-01',\n",
      "  'created': '2019-09-24T07:20:28.915907Z',\n",
      "  'humidity': 71,\n",
      "  'id': 4673607827456000,\n",
      "  'max_temp': 21.03,\n",
      "  'min_temp': 16.605,\n",
      "  'predictability': 77,\n",
      "  'the_temp': 28.32,\n",
      "  'visibility': 9.859918078422016,\n",
      "  'weather_state_abbr': 'hr',\n",
      "  'weather_state_name': 'Heavy Rain',\n",
      "  'wind_direction': 27.5,\n",
      "  'wind_direction_compass': 'NNE',\n",
      "  'wind_speed': 4.983335321721149},\n",
      " {'air_pressure': 1015.96,\n",
      "  'applicable_date': '2019-10-01',\n",
      "  'created': '2019-09-24T04:20:28.690001Z',\n",
      "  'humidity': 71,\n",
      "  'id': 5490819576365056,\n",
      "  'max_temp': 21.03,\n",
      "  'min_temp': 16.605,\n",
      "  'predictability': 77,\n",
      "  'the_temp': 28.32,\n",
      "  'visibility': 9.859918078422016,\n",
      "  'weather_state_abbr': 'hr',\n",
      "  'weather_state_name': 'Heavy Rain',\n",
      "  'wind_direction': 27.5,\n",
      "  'wind_direction_compass': 'NNE',\n",
      "  'wind_speed': 4.983335321721149},\n",
      " {'air_pressure': 1014.67,\n",
      "  'applicable_date': '2019-10-01',\n",
      "  'created': '2019-09-24T01:20:29.025872Z',\n",
      "  'humidity': 75,\n",
      "  'id': 5115611501821952,\n",
      "  'max_temp': 29.02,\n",
      "  'min_temp': 25.26,\n",
      "  'predictability': 77,\n",
      "  'the_temp': 28.45,\n",
      "  'visibility': None,\n",
      "  'weather_state_abbr': 'hr',\n",
      "  'weather_state_name': 'Heavy Rain',\n",
      "  'wind_direction': 45.0,\n",
      "  'wind_direction_compass': 'NE',\n",
      "  'wind_speed': 2.5538356000954425}]\n"
     ]
    }
   ],
   "source": [
    "pp(requests.get(\"https://www.metaweather.com/api/location/\"+ str(ident)+\"/2019/10/1/\").json()[:3])"
   ]
  },
  {
   "cell_type": "markdown",
   "metadata": {},
   "source": [
    "Данные на сайте собираются из разных источников. Можно посмотреть такие параметры, как атмосферное давление, максимальная и минимальная температура, скорость ветра, влажность, видимость и вероятность (предсказуемость) данного прогноза."
   ]
  },
  {
   "cell_type": "code",
   "execution_count": 13,
   "metadata": {},
   "outputs": [
    {
     "data": {
      "text/html": [
       "<div>\n",
       "<style scoped>\n",
       "    .dataframe tbody tr th:only-of-type {\n",
       "        vertical-align: middle;\n",
       "    }\n",
       "\n",
       "    .dataframe tbody tr th {\n",
       "        vertical-align: top;\n",
       "    }\n",
       "\n",
       "    .dataframe thead th {\n",
       "        text-align: right;\n",
       "    }\n",
       "</style>\n",
       "<table border=\"1\" class=\"dataframe\">\n",
       "  <thead>\n",
       "    <tr style=\"text-align: right;\">\n",
       "      <th></th>\n",
       "      <th>air_pressure</th>\n",
       "      <th>applicable_date</th>\n",
       "      <th>created</th>\n",
       "      <th>humidity</th>\n",
       "      <th>id</th>\n",
       "      <th>max_temp</th>\n",
       "      <th>min_temp</th>\n",
       "      <th>predictability</th>\n",
       "      <th>the_temp</th>\n",
       "      <th>visibility</th>\n",
       "      <th>weather_state_abbr</th>\n",
       "      <th>weather_state_name</th>\n",
       "      <th>wind_direction</th>\n",
       "      <th>wind_direction_compass</th>\n",
       "      <th>wind_speed</th>\n",
       "    </tr>\n",
       "  </thead>\n",
       "  <tbody>\n",
       "    <tr>\n",
       "      <th>0</th>\n",
       "      <td>1013.050</td>\n",
       "      <td>2019-09-02</td>\n",
       "      <td>2019-09-02T19:14:07.503855Z</td>\n",
       "      <td>66</td>\n",
       "      <td>6426965546369024</td>\n",
       "      <td>27.745</td>\n",
       "      <td>20.53</td>\n",
       "      <td>73</td>\n",
       "      <td>27.075</td>\n",
       "      <td>12.480551</td>\n",
       "      <td>s</td>\n",
       "      <td>Showers</td>\n",
       "      <td>181.624334</td>\n",
       "      <td>S</td>\n",
       "      <td>4.781793</td>\n",
       "    </tr>\n",
       "    <tr>\n",
       "      <th>1</th>\n",
       "      <td>1013.050</td>\n",
       "      <td>2019-09-02</td>\n",
       "      <td>2019-09-02T16:14:07.737976Z</td>\n",
       "      <td>66</td>\n",
       "      <td>6737873262870528</td>\n",
       "      <td>27.745</td>\n",
       "      <td>20.53</td>\n",
       "      <td>73</td>\n",
       "      <td>26.755</td>\n",
       "      <td>12.480551</td>\n",
       "      <td>s</td>\n",
       "      <td>Showers</td>\n",
       "      <td>181.624334</td>\n",
       "      <td>S</td>\n",
       "      <td>4.781793</td>\n",
       "    </tr>\n",
       "    <tr>\n",
       "      <th>2</th>\n",
       "      <td>1012.785</td>\n",
       "      <td>2019-09-02</td>\n",
       "      <td>2019-09-02T13:14:07.822187Z</td>\n",
       "      <td>68</td>\n",
       "      <td>5484190495670272</td>\n",
       "      <td>25.105</td>\n",
       "      <td>18.68</td>\n",
       "      <td>70</td>\n",
       "      <td>24.355</td>\n",
       "      <td>12.480551</td>\n",
       "      <td>lc</td>\n",
       "      <td>Light Cloud</td>\n",
       "      <td>148.973161</td>\n",
       "      <td>SSE</td>\n",
       "      <td>4.624379</td>\n",
       "    </tr>\n",
       "    <tr>\n",
       "      <th>3</th>\n",
       "      <td>1012.785</td>\n",
       "      <td>2019-09-02</td>\n",
       "      <td>2019-09-02T10:14:07.905168Z</td>\n",
       "      <td>73</td>\n",
       "      <td>5340903004700672</td>\n",
       "      <td>24.840</td>\n",
       "      <td>18.71</td>\n",
       "      <td>70</td>\n",
       "      <td>24.290</td>\n",
       "      <td>12.410647</td>\n",
       "      <td>lc</td>\n",
       "      <td>Light Cloud</td>\n",
       "      <td>128.601332</td>\n",
       "      <td>SE</td>\n",
       "      <td>5.143797</td>\n",
       "    </tr>\n",
       "    <tr>\n",
       "      <th>4</th>\n",
       "      <td>1013.745</td>\n",
       "      <td>2019-09-02</td>\n",
       "      <td>2019-09-02T07:14:07.448723Z</td>\n",
       "      <td>70</td>\n",
       "      <td>5599631834611712</td>\n",
       "      <td>25.345</td>\n",
       "      <td>18.88</td>\n",
       "      <td>71</td>\n",
       "      <td>24.935</td>\n",
       "      <td>12.348510</td>\n",
       "      <td>hc</td>\n",
       "      <td>Heavy Cloud</td>\n",
       "      <td>129.728126</td>\n",
       "      <td>SE</td>\n",
       "      <td>5.424657</td>\n",
       "    </tr>\n",
       "  </tbody>\n",
       "</table>\n",
       "</div>"
      ],
      "text/plain": [
       "   air_pressure applicable_date                      created  humidity  \\\n",
       "0      1013.050      2019-09-02  2019-09-02T19:14:07.503855Z        66   \n",
       "1      1013.050      2019-09-02  2019-09-02T16:14:07.737976Z        66   \n",
       "2      1012.785      2019-09-02  2019-09-02T13:14:07.822187Z        68   \n",
       "3      1012.785      2019-09-02  2019-09-02T10:14:07.905168Z        73   \n",
       "4      1013.745      2019-09-02  2019-09-02T07:14:07.448723Z        70   \n",
       "\n",
       "                 id  max_temp  min_temp  predictability  the_temp  visibility  \\\n",
       "0  6426965546369024    27.745     20.53              73    27.075   12.480551   \n",
       "1  6737873262870528    27.745     20.53              73    26.755   12.480551   \n",
       "2  5484190495670272    25.105     18.68              70    24.355   12.480551   \n",
       "3  5340903004700672    24.840     18.71              70    24.290   12.410647   \n",
       "4  5599631834611712    25.345     18.88              71    24.935   12.348510   \n",
       "\n",
       "  weather_state_abbr weather_state_name  wind_direction  \\\n",
       "0                  s            Showers      181.624334   \n",
       "1                  s            Showers      181.624334   \n",
       "2                 lc        Light Cloud      148.973161   \n",
       "3                 lc        Light Cloud      128.601332   \n",
       "4                 hc        Heavy Cloud      129.728126   \n",
       "\n",
       "  wind_direction_compass  wind_speed  \n",
       "0                      S    4.781793  \n",
       "1                      S    4.781793  \n",
       "2                    SSE    4.624379  \n",
       "3                     SE    5.143797  \n",
       "4                     SE    5.424657  "
      ]
     },
     "execution_count": 13,
     "metadata": {},
     "output_type": "execute_result"
    }
   ],
   "source": [
    "pd.DataFrame(requests.get(\"https://www.metaweather.com/api/location/\"+ str(ident)+\"/2019/9/2/\").json()).head()"
   ]
  },
  {
   "cell_type": "markdown",
   "metadata": {},
   "source": [
    "## Задание"
   ]
  },
  {
   "cell_type": "markdown",
   "metadata": {},
   "source": [
    "Определите c помощью возможностей модуля *pandas* для города Санкт-Петербург в период с 24 по 27 сентября среднюю наиболее вероятную минимальную температуру."
   ]
  },
  {
   "cell_type": "code",
   "execution_count": 49,
   "metadata": {},
   "outputs": [
    {
     "name": "stdout",
     "output_type": "stream",
     "text": [
      "13.9475\n"
     ]
    }
   ],
   "source": [
    "import numpy as np\n",
    "s=[]\n",
    "for date in range(24,28):\n",
    "    va=((pd.DataFrame(requests.get(\"https://www.metaweather.com/api/location/\"+ str(ident)+f\"/2019/9/{date}/\").json())[['min_temp','predictability']].head()))\n",
    "    daymin=(va[va.predictability==max(va['predictability'])])\n",
    "    s.append(np.mean(daymin['min_temp']))\n",
    "print(np.mean(s))"
   ]
  }
 ],
 "metadata": {
  "kernelspec": {
   "display_name": "Python 3",
   "language": "python",
   "name": "python3"
  },
  "language_info": {
   "codemirror_mode": {
    "name": "ipython",
    "version": 3
   },
   "file_extension": ".py",
   "mimetype": "text/x-python",
   "name": "python",
   "nbconvert_exporter": "python",
   "pygments_lexer": "ipython3",
   "version": "3.6.5"
  }
 },
 "nbformat": 4,
 "nbformat_minor": 2
}
